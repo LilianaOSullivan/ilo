{
 "cells": [
  {
   "cell_type": "code",
   "execution_count": 87,
   "metadata": {},
   "outputs": [],
   "source": [
    "import websocket\n",
    "import threading\n",
    "\n",
    "import json\n",
    "def jsonify(message:str):\n",
    "    return json.dumps({\"data\":{\"message\":message}})"
   ]
  },
  {
   "cell_type": "code",
   "execution_count": 88,
   "metadata": {},
   "outputs": [],
   "source": [
    "def message(ws,message):\n",
    "    print(message)\n",
    "\n",
    "def rec(ws,message):\n",
    "    print(f\"Recieved: {message}\")\n",
    "\n",
    "ws = websocket.WebSocketApp(\"ws://localhost:4000/ws/chat\",\n",
    "    on_message=message,on_data=rec\n",
    ")\n",
    "\n",
    "def run(ws):\n",
    "    ws.run_forever()\n",
    "\n",
    "wt = threading.Thread(target=run,args=(ws,))\n",
    "wt.start()"
   ]
  },
  {
   "cell_type": "code",
   "execution_count": 89,
   "metadata": {},
   "outputs": [
    {
     "name": "stdout",
     "output_type": "stream",
     "text": [
      "2\n"
     ]
    }
   ],
   "source": [
    "ws.send(jsonify('2'))"
   ]
  },
  {
   "cell_type": "code",
   "execution_count": 33,
   "metadata": {},
   "outputs": [],
   "source": [
    "from Crypto.PublicKey import RSA\n",
    "from Crypto.Cipher import PKCS1_OAEP,AES"
   ]
  },
  {
   "cell_type": "code",
   "execution_count": 11,
   "metadata": {},
   "outputs": [],
   "source": [
    "bob = RSA.generate(4096)\n",
    "alice = RSA.generate(4096)    "
   ]
  },
  {
   "cell_type": "code",
   "execution_count": 58,
   "metadata": {},
   "outputs": [
    {
     "name": "stdout",
     "output_type": "stream",
     "text": [
      "Encrypted: b\"P\\\\v\\xb8\\x8c4\\xf48G\\x96\\xbd\\xec\\xa5\\xbd\\xf2I\\xdc\\x8b%xV\\x89E\\xff\\xa5\\xd1\\xb5\\xabn\\x96?C\\xfd]\\xd8\\x08\\xac\\xbf\\xf9:)\\x94\\xd6\\xbdg\\xb5\\xcaT0gA\\xfa$\\\\\\xcf\\xb5\\xe5\\xcap\\xbd\\xf9\\xf3r\\xefDw4\\x0ep\\x86\\x92\\xc7\\xc5P\\x01=\\x88=\\xfbX$\\x18\\xe1\\xe7_\\xaf\\x11\\x16\\x95)\\xab\\x03\\x89\\x97#\\xb1\\x86>\\xe4\\xc4<\\x08\\x13\\xe9t\\xa5\\xb5\\x08\\x9eh\\x01\\xe4\\x95\\x01J\\xdb\\x8bp\\xd9\\x97\\xe1\\x8d\\x97\\xaa\\x7f\\xbe^J:\\x8a}.\\x86B\\x94=\\x90\\xa5\\x13\\x13\\xcc8\\x9d\\x11\\xf1\\xbe`\\x03!\\x1d*|k\\xb1\\x16\\xe5C\\xe1\\xc3\\x0f\\xfaZ\\xe9\\xeam`m\\xe5xh\\xc6\\xcd\\xbf}\\x7f@j\\xed^\\x86\\xce\\xd8\\xd8ZM\\xf00,\\xccO'\\xa0\\x85\\x8ao\\xc5\\x94d\\xef$\\x7f\\x14\\x13W\\xc7p\\x19\\x8e\\x1f\\x81]K>g\\xf9\\x15[x\\x1d\\xef\\x1e\\x05;\\xd1\\x98\\x9d\\x8d\\x10%\\x14\\x9b\\xd3\\x07p\\xa5\\xfb9\\x9e>\\xa9=\\xcc^\\x98\\x85\\xc8\\x16h\\x02u+\\xa71\\xf4\\xbd\\xdf\"\n",
      "Decrypted: b'A message for encryption'\n"
     ]
    }
   ],
   "source": [
    "## https://wizardforcel.gitbooks.io/practical-cryptography-for-developers-book/content/asymmetric-key-ciphers/rsa-encrypt-decrypt-examples.html\n",
    "\n",
    "import binascii\n",
    "\n",
    "keyPair = RSA.generate(2048)\n",
    "pub_key = keyPair.publickey()\n",
    "\n",
    "msg = 'A message for encryption'.encode('utf-8')\n",
    "encryptor = PKCS1_OAEP.new(pub_key)\n",
    "encrypted = encryptor.encrypt(msg)\n",
    "print(\"Encrypted:\", encrypted)\n",
    "\n",
    "## Network Magic --->\n",
    "## Beep boop beep\n",
    "## ..............-->\n",
    "\n",
    "receivedDate:str = encrypted\n",
    "\n",
    "decryptor = PKCS1_OAEP.new(keyPair)\n",
    "decrypted = decryptor.decrypt(encrypted)\n",
    "print('Decrypted:', decrypted)\n"
   ]
  },
  {
   "cell_type": "code",
   "execution_count": 60,
   "metadata": {},
   "outputs": [],
   "source": [
    "from Crypto.PublicKey import RSA\n",
    "from Crypto.Random import get_random_bytes\n",
    "from Crypto.Cipher import AES, PKCS1_OAEP\n",
    "\n",
    "recipient_key = pub_key\n",
    "data = \"I met aliens in a UFO. Here is the map.\".encode(\"utf-8\")\n",
    "session_key = get_random_bytes(16)\n",
    "\n",
    "cipher_rsa = PKCS1_OAEP.new(recipient_key)\n",
    "enc_session_key = cipher_rsa.encrypt(session_key)\n",
    "\n",
    "cipher_aes = AES.new(session_key, AES.MODE_EAX)\n",
    "ciphertext, tag = cipher_aes.encrypt_and_digest(data)\n",
    "\n",
    "file_out = open(\"encrypted_data.bin\", \"wb\")\n",
    "[ file_out.write(x) for x in (enc_session_key, cipher_aes.nonce, tag, ciphertext) ]\n",
    "file_out.close()"
   ]
  },
  {
   "cell_type": "code",
   "execution_count": 61,
   "metadata": {},
   "outputs": [
    {
     "name": "stdout",
     "output_type": "stream",
     "text": [
      "I met aliens in a UFO. Here is the map.\n"
     ]
    }
   ],
   "source": [
    "from Crypto.PublicKey import RSA\n",
    "from Crypto.Cipher import AES, PKCS1_OAEP\n",
    "\n",
    "file_in = open(\"encrypted_data.bin\", \"rb\")\n",
    "\n",
    "private_key = keyPair\n",
    "\n",
    "enc_session_key, nonce, tag, ciphertext = \\\n",
    "   [ file_in.read(x) for x in (private_key.size_in_bytes(), 16, 16, -1) ]\n",
    "\n",
    "# Decrypt the session key with the private RSA key\n",
    "cipher_rsa = PKCS1_OAEP.new(private_key)\n",
    "session_key = cipher_rsa.decrypt(enc_session_key)\n",
    "\n",
    "# Decrypt the data with the AES session key\n",
    "cipher_aes = AES.new(session_key, AES.MODE_EAX, nonce)\n",
    "data = cipher_aes.decrypt_and_verify(ciphertext, tag)\n",
    "print(data.decode(\"utf-8\"))"
   ]
  },
  {
   "cell_type": "code",
   "execution_count": 93,
   "metadata": {},
   "outputs": [
    {
     "name": "stdout",
     "output_type": "stream",
     "text": [
      "Encrypted: b'd\\xe5\\xbd\\xe2\\xe7\\x8d\\x06\\xd4\\xa0\\\\W\\x130.\\xab\\x810\\xa6\\xce\\xad\\t\\xe1\\xd7\\xb4m^\\xfe,\\xf6%\\x98\\xfd9\\xfb\\x04\\xcd\\x8f\\x82\\xcfr\\x8dv/aA\\x1b\\xd4\\xbfI\\x9b\\xbf\\xec3v\\xfc\\xb0Qb\\xfd\\\\\\xb7+\\x1d_\\x82^\\xa3\\xba\\xf9\\xbf\\xa5pl\\xf9*\\xfc\\xf5i\\xe8\\x08\\x99o\\xa84\\x06\\xae\\x98\\x1dfU\\xf8\\xa8\\x97\\xc2T\\xdbD\\xd4\\x90 /\\xf4|\\xbd\\xc8\\xdbR\\xc5\\xb0v`\\xc9!\\xd9\\xec\\xbf\\xa3\\x06I\\x85\\xc1\\x11\\xc8\\xb0/\\xa4!\\xc8\\xf5x\\xd0Ni{\\xb5\\xd3k\\xb5\\xb2\\xc6\\xdf\\x12\\xee:\\xbbu\\xf2\\x0cOD\\xf6\\x10a\\x0f\\x1b\\xb8=\\xaf(\\x93\\xb8\\xc9\\xad\\xda@\\xfeC\\x05\\xf8\\rX\\x19\\xc5m\\'\\xde\\n\\xbb7o\\x15\\xb1\\xf0Yz\\xc2K\\xc5\\x01RJ\\xbe\\x1dJE\\xf3o4\\xfa\\xd2\\x88?\\xe6\\xd2Si2\\x92\\xe3\\xf90\\xd1Ws\\\\Bi\\x88H\\x00 *S\\x04+\\xb0\\xa5\\xc4\\x80K\\xcd\\xcdC9d\\xae\\x05#\\x95\\x0eT\\xa9$\\xb0\\xdd\\xc6\\xc5\\x154ep|\\xd8V\\xb1\"'\n"
     ]
    },
    {
     "ename": "ValueError",
     "evalue": "Ciphertext with incorrect length.",
     "output_type": "error",
     "traceback": [
      "\u001b[0;31m---------------------------------------------------------------------------\u001b[0m",
      "\u001b[0;31mValueError\u001b[0m                                Traceback (most recent call last)",
      "\u001b[0;32m<ipython-input-93-21f940840cfd>\u001b[0m in \u001b[0;36m<module>\u001b[0;34m\u001b[0m\n\u001b[1;32m     19\u001b[0m \u001b[0mrecieved\u001b[0m \u001b[0;34m=\u001b[0m \u001b[0mbytes\u001b[0m\u001b[0;34m(\u001b[0m\u001b[0msending\u001b[0m\u001b[0;34m,\u001b[0m\u001b[0;34m\"utf-8\"\u001b[0m\u001b[0;34m)\u001b[0m\u001b[0;34m\u001b[0m\u001b[0;34m\u001b[0m\u001b[0m\n\u001b[1;32m     20\u001b[0m \u001b[0mdecryptor\u001b[0m \u001b[0;34m=\u001b[0m \u001b[0mPKCS1_OAEP\u001b[0m\u001b[0;34m.\u001b[0m\u001b[0mnew\u001b[0m\u001b[0;34m(\u001b[0m\u001b[0mkeyPair\u001b[0m\u001b[0;34m)\u001b[0m\u001b[0;34m\u001b[0m\u001b[0;34m\u001b[0m\u001b[0m\n\u001b[0;32m---> 21\u001b[0;31m \u001b[0mdecrypted\u001b[0m \u001b[0;34m=\u001b[0m \u001b[0mdecryptor\u001b[0m\u001b[0;34m.\u001b[0m\u001b[0mdecrypt\u001b[0m\u001b[0;34m(\u001b[0m\u001b[0mrecieved\u001b[0m\u001b[0;34m)\u001b[0m\u001b[0;34m\u001b[0m\u001b[0;34m\u001b[0m\u001b[0m\n\u001b[0m\u001b[1;32m     22\u001b[0m \u001b[0mprint\u001b[0m\u001b[0;34m(\u001b[0m\u001b[0;34m'Decrypted:'\u001b[0m\u001b[0;34m,\u001b[0m \u001b[0mdecrypted\u001b[0m\u001b[0;34m)\u001b[0m\u001b[0;34m\u001b[0m\u001b[0;34m\u001b[0m\u001b[0m\n",
      "\u001b[0;32m/usr/local/lib/python3.8/site-packages/Crypto/Cipher/PKCS1_OAEP.py\u001b[0m in \u001b[0;36mdecrypt\u001b[0;34m(self, ciphertext)\u001b[0m\n\u001b[1;32m    165\u001b[0m         \u001b[0;31m# Step 1b and 1c\u001b[0m\u001b[0;34m\u001b[0m\u001b[0;34m\u001b[0m\u001b[0;34m\u001b[0m\u001b[0m\n\u001b[1;32m    166\u001b[0m         \u001b[0;32mif\u001b[0m \u001b[0mlen\u001b[0m\u001b[0;34m(\u001b[0m\u001b[0mciphertext\u001b[0m\u001b[0;34m)\u001b[0m \u001b[0;34m!=\u001b[0m \u001b[0mk\u001b[0m \u001b[0;32mor\u001b[0m \u001b[0mk\u001b[0m\u001b[0;34m<\u001b[0m\u001b[0mhLen\u001b[0m\u001b[0;34m+\u001b[0m\u001b[0;36m2\u001b[0m\u001b[0;34m:\u001b[0m\u001b[0;34m\u001b[0m\u001b[0;34m\u001b[0m\u001b[0m\n\u001b[0;32m--> 167\u001b[0;31m             \u001b[0;32mraise\u001b[0m \u001b[0mValueError\u001b[0m\u001b[0;34m(\u001b[0m\u001b[0;34m\"Ciphertext with incorrect length.\"\u001b[0m\u001b[0;34m)\u001b[0m\u001b[0;34m\u001b[0m\u001b[0;34m\u001b[0m\u001b[0m\n\u001b[0m\u001b[1;32m    168\u001b[0m         \u001b[0;31m# Step 2a (O2SIP)\u001b[0m\u001b[0;34m\u001b[0m\u001b[0;34m\u001b[0m\u001b[0;34m\u001b[0m\u001b[0m\n\u001b[1;32m    169\u001b[0m         \u001b[0mct_int\u001b[0m \u001b[0;34m=\u001b[0m \u001b[0mbytes_to_long\u001b[0m\u001b[0;34m(\u001b[0m\u001b[0mciphertext\u001b[0m\u001b[0;34m)\u001b[0m\u001b[0;34m\u001b[0m\u001b[0;34m\u001b[0m\u001b[0m\n",
      "\u001b[0;31mValueError\u001b[0m: Ciphertext with incorrect length."
     ]
    }
   ],
   "source": [
    "\n",
    "import binascii\n",
    "\n",
    "keyPair = RSA.generate(2048)\n",
    "pub_key = keyPair.publickey()\n",
    "\n",
    "msg = 'A message for encryption'.encode('utf-8')\n",
    "encryptor = PKCS1_OAEP.new(pub_key)\n",
    "encrypted = encryptor.encrypt(msg)\n",
    "print(\"Encrypted:\", encrypted)\n",
    "\n",
    "sending = str(encrypted)[3:-1]\n",
    "\n",
    "## Network Magic --->\n",
    "## Beep boop beep\n",
    "assert type(sending) == str, \"Can only send type string\" #Can I send integers?\n",
    "## ..............-->\n",
    "\n",
    "recieved:str = sending\n",
    "recieved = bytes(sending,\"utf-8\")\n",
    "decryptor = PKCS1_OAEP.new(keyPair)\n",
    "decrypted = decryptor.decrypt(recieved)\n",
    "print('Decrypted:', decrypted)"
   ]
  },
  {
   "cell_type": "code",
   "execution_count": 95,
   "metadata": {},
   "outputs": [
    {
     "name": "stdout",
     "output_type": "stream",
     "text": [
      "Encrypted: b'46c44a6de07d1d8b5c5b50d9fd7cb760d1546823c028eb9b3966cd8179709edfb39edd4cd5632b09ee26f5fc3e50ca4d7106833a0ec6d00e73e0a3ebce1248ff1390101771935e2e87d997856be76b3e73b5486120bc269af6eca90b5a645a8affac6282b57c4129d39c7b31ffe9bb388b6887d6194978eced86e71fb5d4c8d8a657802fcdaf261d847db1a93b5412cb564e9811a509ef0afbe71033d2e80435fb4012191936fc6aa20c416df586e0fe810c48022c124cc225f349e087dab1ab06b073f02cded61aaebe468405fbc639e43e4a17527c61ddcba6e8aeb5229c0ea96276ff9a9d44bb2ca74dc8f259a75b653af750cd9eb06a1b4670ad281beaae'\n"
     ]
    },
    {
     "ename": "Error",
     "evalue": "Non-hexadecimal digit found",
     "output_type": "error",
     "traceback": [
      "\u001b[0;31m---------------------------------------------------------------------------\u001b[0m",
      "\u001b[0;31mError\u001b[0m                                     Traceback (most recent call last)",
      "\u001b[0;32m<ipython-input-95-8305015f8083>\u001b[0m in \u001b[0;36m<module>\u001b[0;34m\u001b[0m\n\u001b[1;32m      7\u001b[0m \u001b[0mencrypted\u001b[0m \u001b[0;34m=\u001b[0m \u001b[0mencryptor\u001b[0m\u001b[0;34m.\u001b[0m\u001b[0mencrypt\u001b[0m\u001b[0;34m(\u001b[0m\u001b[0mmsg\u001b[0m\u001b[0;34m)\u001b[0m\u001b[0;34m\u001b[0m\u001b[0;34m\u001b[0m\u001b[0m\n\u001b[1;32m      8\u001b[0m \u001b[0mprint\u001b[0m\u001b[0;34m(\u001b[0m\u001b[0;34m\"Encrypted:\"\u001b[0m\u001b[0;34m,\u001b[0m \u001b[0mbinascii\u001b[0m\u001b[0;34m.\u001b[0m\u001b[0mhexlify\u001b[0m\u001b[0;34m(\u001b[0m\u001b[0mencrypted\u001b[0m\u001b[0;34m)\u001b[0m\u001b[0;34m)\u001b[0m\u001b[0;34m\u001b[0m\u001b[0;34m\u001b[0m\u001b[0m\n\u001b[0;32m----> 9\u001b[0;31m \u001b[0mprint\u001b[0m\u001b[0;34m(\u001b[0m\u001b[0;34m\"Encrypted:\"\u001b[0m\u001b[0;34m,\u001b[0m \u001b[0mbinascii\u001b[0m\u001b[0;34m.\u001b[0m\u001b[0munhexlify\u001b[0m\u001b[0;34m(\u001b[0m\u001b[0mencrypted\u001b[0m\u001b[0;34m)\u001b[0m\u001b[0;34m)\u001b[0m\u001b[0;34m\u001b[0m\u001b[0;34m\u001b[0m\u001b[0m\n\u001b[0m\u001b[1;32m     10\u001b[0m \u001b[0;34m\u001b[0m\u001b[0m\n\u001b[1;32m     11\u001b[0m \u001b[0;31m# ## Network Magic --->\u001b[0m\u001b[0;34m\u001b[0m\u001b[0;34m\u001b[0m\u001b[0;34m\u001b[0m\u001b[0m\n",
      "\u001b[0;31mError\u001b[0m: Non-hexadecimal digit found"
     ]
    }
   ],
   "source": [
    "import binascii\n",
    "private_key = RSA.generate(2048)\n",
    "public_key = private_key.publickey()\n",
    "\n",
    "msg = 'A message for encryption!'.encode('utf-8')\n",
    "encryptor = PKCS1_OAEP.new(pub_key)\n",
    "encrypted = encryptor.encrypt(msg)\n",
    "print(\"Encrypted:\", binascii.hexlify(encrypted))\n",
    "\n",
    "# ## Network Magic --->\n",
    "# ## Beep boop beep\n",
    "# ## ..............-->\n",
    "\n",
    "# receivedDate:str = encrypted\n",
    "\n",
    "decryptor = PKCS1_OAEP.new(keyPair)\n",
    "decrypted = decryptor.decrypt(encrypted)\n",
    "print('Decrypted:', decrypted)\n"
   ]
  },
  {
   "cell_type": "code",
   "execution_count": 115,
   "metadata": {},
   "outputs": [
    {
     "name": "stdout",
     "output_type": "stream",
     "text": [
      "Decrypted: b'A message for encryption'\n"
     ]
    }
   ],
   "source": [
    "import binascii\n",
    "import base64\n",
    "\n",
    "private_key = RSA.generate(2048)\n",
    "public_key = private_key.publickey()\n",
    "\n",
    "msg = 'A message for encryption'.encode('utf-8')\n",
    "encryptor = PKCS1_OAEP.new(public_key)\n",
    "encrypted = encryptor.encrypt(msg)\n",
    "# print(\"Encrypted:\", encrypted)\n",
    "\n",
    "\n",
    "sending = base64.b64encode(encrypted).decode()\n",
    "# print(repr(sending))\n",
    "# ## Network Magic --->\n",
    "# ## Beep boop beep\n",
    "assert type(sending) == str, \"Can only send type string\" #Can I send integers?\n",
    "# ## ..............-->\n",
    "\n",
    "recieved:str = sending\n",
    "# print(f\"{recieved=}\")\n",
    "recieved = base64.b64decode(recieved)\n",
    "decryptor = PKCS1_OAEP.new(private_key)\n",
    "decrypted = decryptor.decrypt(recieved)\n",
    "print('Decrypted:', decrypted)"
   ]
  },
  {
   "cell_type": "code",
   "execution_count": 113,
   "metadata": {},
   "outputs": [
    {
     "data": {
      "text/plain": [
       "'ZxZZi1/Wqoq1VJ7sf1i1Yw8+pMySLcmk2zwFjuLuTSmSTUboEaWGL9rCw9VZFxVG0i0chDAFOTsLlaJfjhqYxmavkbyjbNGx4hSz1n7CABwIsbvipYYwowHKmqX1YnPSvvSRUJA8/ok/WQWzBYuxoz38YqLL+eRa/NhRQuHvRNNXdOolRfLD10LMY8LcEqTt3fREukkUU1B4tKeo0ZfUAY0EHiUlPwmNJBfAdzxCJAsfUwPnQkiGidzLF7x5fbE/LpuM+80ooNtkE6utqVwpULFqazqjMW1WzP9vUzOHpXzyRh6MnT3tNRCJnFkGUC6E9futb0doBKpRVxEuhyhrew=='"
      ]
     },
     "execution_count": 113,
     "metadata": {},
     "output_type": "execute_result"
    }
   ],
   "source": [
    "sending.decode()"
   ]
  },
  {
   "cell_type": "code",
   "execution_count": null,
   "metadata": {},
   "outputs": [],
   "source": []
  }
 ],
 "metadata": {
  "kernelspec": {
   "display_name": "Python 3",
   "language": "python",
   "name": "python3"
  },
  "language_info": {
   "codemirror_mode": {
    "name": "ipython",
    "version": 3
   },
   "file_extension": ".py",
   "mimetype": "text/x-python",
   "name": "python",
   "nbconvert_exporter": "python",
   "pygments_lexer": "ipython3",
   "version": "3.8.6"
  }
 },
 "nbformat": 4,
 "nbformat_minor": 4
}
